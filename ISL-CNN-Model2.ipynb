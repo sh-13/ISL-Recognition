{
 "cells": [
  {
   "cell_type": "code",
   "execution_count": 0,
   "metadata": {
    "colab": {},
    "colab_type": "code",
    "id": "wS7kosIqpqvw"
   },
   "outputs": [],
   "source": [
    "from google.colab import drive\n",
    "drive.mount('/content/drive')"
   ]
  },
  {
   "cell_type": "code",
   "execution_count": 0,
   "metadata": {
    "colab": {},
    "colab_type": "code",
    "id": "_gG2ZtQ0pbjT"
   },
   "outputs": [],
   "source": [
    "# Importing all the libraries\n",
    "from keras.models import Sequential\n",
    "from keras.layers import Conv2D, MaxPooling2D, Flatten, Dense, Dropout\n",
    "\n",
    "# Initialising the CNN\n",
    "classifier = Sequential()\n",
    "\n",
    "# Step 1 - Convolution\n",
    "classifier.add(Conv2D(16, kernel_size=3, activation='relu', input_shape=(110, 110, 1)))\n",
    "\n",
    "# Step 2 - Max Pooling\n",
    "classifier.add(MaxPooling2D(pool_size = (2,2)))\n",
    "\n",
    "# Adding extra convolution layers\n",
    "classifier.add(Conv2D(32, kernel_size=3, activation='relu'))\n",
    "classifier.add(MaxPooling2D(pool_size = (2,2)))\n",
    "classifier.add(Conv2D(64, kernel_size=2, activation='relu'))\n",
    "classifier.add(MaxPooling2D(pool_size = (2,2)))\n",
    "classifier.add(Conv2D(128, kernel_size=2, activation='relu'))\n",
    "classifier.add(MaxPooling2D(pool_size = (2,2)))\n",
    "\n",
    "# Step 3 - Flatten\n",
    "classifier.add(Flatten())\n",
    "\n",
    "# Step 4 - Fully Connected Layer\n",
    "classifier.add(Dense(128, activation='relu'))\n",
    "classifier.add(Dropout(0.3))\n",
    "classifier.add(Dense(36, activation='softmax'))\n",
    "\n",
    "# Compile the Model\n",
    "classifier.compile(optimizer='rmsprop', loss='categorical_crossentropy', metrics=['accuracy'])\n",
    "\n",
    "# Keras Image Preprocessing\n",
    "from keras.preprocessing.image import ImageDataGenerator\n",
    "!unzip -uq \"/content/drive/My Drive/Dataset/ISL Gestures DataSet.zip\" -d \"/content/\"\n",
    "train_datagen = ImageDataGenerator(\n",
    "            rotation_range = 40,\n",
    "            width_shift_range=0.2,\n",
    "            height_shift_range=0.2,\n",
    "            rescale=1/255,\n",
    "            shear_range=0.2,\n",
    "            zoom_range=0.2,\n",
    "            horizontal_flip=True,\n",
    "            fill_mode='nearest',\n",
    "            validation_split=0.2\n",
    "        )\n",
    "\n",
    "test_datagen = ImageDataGenerator(rescale=1./255)\n",
    "\n",
    "train_generator = train_datagen.flow_from_directory(\n",
    "        '/content/ISL Gestures DataSet',\n",
    "        target_size=(110, 110),\n",
    "        batch_size=1,\n",
    "        color_mode='grayscale',\n",
    "        class_mode='categorical',\n",
    "        subset='training')\n",
    "\n",
    "validation_generator = train_datagen.flow_from_directory(\n",
    "        '/content/ISL Gestures DataSet',\n",
    "        target_size=(110, 110),\n",
    "        batch_size=1,\n",
    "        color_mode='grayscale',\n",
    "        class_mode='categorical',\n",
    "        subset='validation')\n",
    "\n",
    "classifier.fit_generator(\n",
    "        train_generator,\n",
    "        steps_per_epoch=len(train_generator.filenames),\n",
    "        epochs=10,\n",
    "        validation_data=validation_generator,\n",
    "        validation_steps=len(train_generator.filenames))\n",
    "\n",
    "# Save the Model\n",
    "import joblib\n",
    "joblib.dump(classifier, 'ISL-CNN-Model2')"
   ]
  }
 ],
 "metadata": {
  "accelerator": "GPU",
  "colab": {
   "collapsed_sections": [],
   "name": "ISL-CNN-Model2.ipynb",
   "provenance": []
  },
  "kernelspec": {
   "display_name": "Python 3",
   "language": "python",
   "name": "python3"
  },
  "language_info": {
   "codemirror_mode": {
    "name": "ipython",
    "version": 3
   },
   "file_extension": ".py",
   "mimetype": "text/x-python",
   "name": "python",
   "nbconvert_exporter": "python",
   "pygments_lexer": "ipython3",
   "version": "3.7.3"
  }
 },
 "nbformat": 4,
 "nbformat_minor": 1
}
